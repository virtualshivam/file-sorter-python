{
 "cells": [
  {
   "cell_type": "code",
   "execution_count": 26,
   "id": "528accf4-0834-4fa5-b81a-dd70a4d9c72d",
   "metadata": {},
   "outputs": [],
   "source": [
    "import os,shutil\n",
    "path = r\"C:/Users/shivam/Desktop/dummy\"\n",
    "files_list=os.listdir(path)\n",
    "\n",
    "\n",
    "for i in files_list:\n",
    "    try:\n",
    "        folder_name = i.split(\".\")[1]\n",
    "    except:\n",
    "        continue\n",
    "    if not os.path.exists(path + \"/\"+ folder_name+\" files\"):\n",
    "        os.makedirs(path + \"/\"+ folder_name+\" files\")\n",
    "\n",
    "def folder_filter_function(entity_complete_name):\n",
    "    if \".\" in entity_complete_name:\n",
    "        return True\n",
    "    else:\n",
    "        return False\n",
    "\n",
    "only_files = list(filter(folder_filter_function,files_list))\n",
    "\n",
    "\n",
    "\n",
    "for file in only_files:\n",
    "    file_extension = file.split(\".\")[1]\n",
    "    if os.path.exists(path+\"/\"+file_extension+\" files\"):\n",
    "        shutil.move(path+\"/\"+file,path+\"/\"+file_extension+\" files\"+\"/\"+file)\n",
    "    else:\n",
    "        print(\"There is some error in your code\")\n"
   ]
  },
  {
   "cell_type": "code",
   "execution_count": 49,
   "id": "23645472-43bb-4a99-aba7-10bba77fe14e",
   "metadata": {},
   "outputs": [],
   "source": [
    "#Alex the Analyst\n",
    "\n",
    "import os,shutil\n",
    "\n",
    "path = r\"C:/Users/shivam/Desktop/dummy/\"\n",
    "\n",
    "file_name = os.listdir(path)\n",
    "\n",
    "folder_names = [\"csv files\", \"image files\", \"text files\"]\n",
    "\n",
    "for folder in folder_names:\n",
    "    if not os.path.exists(path+folder):\n",
    "        os.makedirs(path+folder)\n",
    "\n",
    "for file in file_name:\n",
    "    if \".csv\" in file and not os.path.exists(path+\"csv files/\"+file):\n",
    "        shutil.move(path+file, path+\"csv files/\"+file)\n",
    "    elif \".txt\" in file and not os.path.exists(path+\"text files/\"+file):\n",
    "        shutil.move(path+file,path+\"text files/\"+file)\n",
    "    elif (\".png\" in file or \".jpg\" in file or \"jpeg\" in file) and not os.path.exists(path+\"image files/\"+file):\n",
    "        shutil.move(path+file,path+\"image files/\"+file)\n",
    "    elif \".\" not in file:\n",
    "        # to Handle Folders that already exists.\n",
    "        continue\n",
    "    else:\n",
    "        print(\" There is some issue with file/folder recognization. Kindly check the logs below.\")\n",
    "        print(path+file)\n"
   ]
  },
  {
   "cell_type": "code",
   "execution_count": null,
   "id": "658ad227-e2e0-4073-aedd-e990b506bdf7",
   "metadata": {},
   "outputs": [],
   "source": []
  },
  {
   "cell_type": "code",
   "execution_count": null,
   "id": "f7a1e3d8-a2dd-428a-bb9f-54c40c15006f",
   "metadata": {},
   "outputs": [],
   "source": []
  },
  {
   "cell_type": "code",
   "execution_count": null,
   "id": "f09e985c-0251-4ce1-8843-0088f533069f",
   "metadata": {},
   "outputs": [],
   "source": []
  }
 ],
 "metadata": {
  "kernelspec": {
   "display_name": "Python 3 (ipykernel)",
   "language": "python",
   "name": "python3"
  },
  "language_info": {
   "codemirror_mode": {
    "name": "ipython",
    "version": 3
   },
   "file_extension": ".py",
   "mimetype": "text/x-python",
   "name": "python",
   "nbconvert_exporter": "python",
   "pygments_lexer": "ipython3",
   "version": "3.12.4"
  }
 },
 "nbformat": 4,
 "nbformat_minor": 5
}
